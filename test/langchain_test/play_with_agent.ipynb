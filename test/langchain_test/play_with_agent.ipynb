{
 "cells": [
  {
   "cell_type": "code",
   "execution_count": 1,
   "metadata": {},
   "outputs": [],
   "source": [
    "from langchain_community.utilities import SerpAPIWrapper\n",
    "from langchain.memory import ChatMessageHistory\n",
    "from langchain_core.runnables.history import RunnableWithMessageHistory\n",
    "from langchain_core.prompts import ChatPromptTemplate, MessagesPlaceholder\n",
    "from langchain_core.messages import SystemMessage\n",
    "from langchain_google_genai import ChatGoogleGenerativeAI\n",
    "from IPython.display import Markdown\n",
    "import textwrap\n",
    "import os\n",
    "from langchain_core.messages import HumanMessage\n",
    "from langchain_core.tools import Tool\n",
    "from langgraph.prebuilt import create_react_agent\n",
    "from langchain_community.tools import DuckDuckGoSearchRun, DuckDuckGoSearchResults\n",
    "# from langgraph.checkpoint.sqlite import SqliteSaver\n",
    "\n",
    "\n",
    "def to_markdown(text):\n",
    "    text = text.replace('•', '  *')\n",
    "    return Markdown(textwrap.indent(text, '> ', predicate=lambda _: True))"
   ]
  },
  {
   "cell_type": "code",
   "execution_count": 2,
   "metadata": {},
   "outputs": [],
   "source": [
    "# using v2rayn\n",
    "os.environ[\"HTTP_PROXY\"] = \"http://127.0.0.1:10809\"\n",
    "os.environ[\"HTTP_PROXYS\"] = \"http://127.0.0.1:10809\"\n",
    "# AI model\n",
    "model = \"gemini-1.5-flash\""
   ]
  },
  {
   "cell_type": "code",
   "execution_count": 3,
   "metadata": {},
   "outputs": [],
   "source": [
    "from langchain.agents import ConversationalChatAgent, AgentExecutor\n",
    "from langchain.memory import ConversationBufferMemory\n",
    "from langchain_community.callbacks import StreamlitCallbackHandler\n",
    "from langchain_community.chat_message_histories import StreamlitChatMessageHistory\n",
    "from langchain_community.tools import DuckDuckGoSearchRun\n",
    "from langchain_core.runnables import RunnableConfig"
   ]
  },
  {
   "cell_type": "code",
   "execution_count": 4,
   "metadata": {},
   "outputs": [],
   "source": [
    "chat = ChatGoogleGenerativeAI(model=model,\n",
    "                              google_api_key=os.getenv(\"GOOGLE_API_KEY\"))\n",
    "\n",
    "# search = SerpAPIWrapper(serpapi_api_key=os.getenv(\"SERP_API_KEY\"))\n",
    "# search_tool = Tool(\n",
    "#     name=\"serpapi\",\n",
    "#     description=\"A tool that uses the SerpAPI to search the web.\",\n",
    "#     func=search.run,\n",
    "# )\n",
    "\n",
    "# search_tool = DuckDuckGoSearchRun(name=\"Search\")\n",
    "# DuckDuckGoSearchResults\n",
    "search_tool = DuckDuckGoSearchResults(name=\"Search\")\n",
    "tools = [search_tool]\n",
    "\n",
    "# chat_with_tools = chat.bind_tools(tools)\n",
    "# chat_agent = ConversationalChatAgent.from_llm_and_tools(llm=chat, tools=tools)"
   ]
  },
  {
   "cell_type": "code",
   "execution_count": 9,
   "metadata": {},
   "outputs": [],
   "source": [
    "from langgraph.checkpoint.sqlite import SqliteSaver\n",
    "\n",
    "memory = SqliteSaver.from_conn_string(\":memory:\")\n",
    "agent_executor = create_react_agent(chat, tools, checkpointer=memory)\n",
    "config = {\"configurable\": {\"thread_id\": \"abc123\"}}\n",
    "\n",
    "response = agent_executor.invoke({\"messages\": [HumanMessage(content=\"What did I ask just now?\")]}, config=config)"
   ]
  },
  {
   "cell_type": "code",
   "execution_count": 10,
   "metadata": {},
   "outputs": [
    {
     "data": {
      "text/plain": [
       "{'messages': [HumanMessage(content='What did I ask just now?', id='8cdb5ab1-c279-4c36-ab68-58ab554968a8'),\n",
       "  AIMessage(content='', additional_kwargs={'function_call': {'name': 'Search', 'arguments': '{\"query\": \"What did I ask just now?\"}'}}, response_metadata={'prompt_feedback': {'block_reason': 0, 'safety_ratings': []}, 'finish_reason': 'STOP', 'safety_ratings': [{'category': 'HARM_CATEGORY_HARASSMENT', 'probability': 'NEGLIGIBLE', 'blocked': False}, {'category': 'HARM_CATEGORY_SEXUALLY_EXPLICIT', 'probability': 'NEGLIGIBLE', 'blocked': False}, {'category': 'HARM_CATEGORY_DANGEROUS_CONTENT', 'probability': 'NEGLIGIBLE', 'blocked': False}, {'category': 'HARM_CATEGORY_HATE_SPEECH', 'probability': 'NEGLIGIBLE', 'blocked': False}]}, id='run-a40c26a7-788a-4c15-9757-4ee4f8eb9f9a-0', tool_calls=[{'name': 'Search', 'args': {'query': 'What did I ask just now?'}, 'id': '92df20e6-b543-4c5d-8c07-5abe37c076de'}], usage_metadata={'input_tokens': 78, 'output_tokens': 19, 'total_tokens': 97}),\n",
       "  ToolMessage(content='[snippet: 12. \"I don\\'t care who asked or not, I just had to say this so I did.\" 13. \"Then don\\'t say the same story again and again.\" 14. \"My bad, I just can\\'t tolerate nonsense. I shouldn\\'t have to say that. Sorry!\" When Someone Says \\'Who Asked\\' To You. Well, first \\'Who asked\\', \\'Nobody asked\\' or \\'Did I ask\\' isn\\'t ..., title: 56 Best Comebacks For \"Who Asked\" Or \"Nobody Asked\", link: https://betterresponses.com/comebacks-for-who-asked-nobody/], [snippet: Just adding to our rich tapestry of banter, feel free to chime in. Nope. You didn\\'t. We all make mistakes. Does it matter? I did, and I\\'m pretty interesting! I don\\'t need someone to ask me to talk. I do it when I want. Exactly why would I need to be asked to talk as an adult. Just sharing perspectives—that\\'s what we\\'re talking for ..., title: 41 Comebacks for Who Asked You: Quick-Witted Replies To Did I Ask You, link: https://mentalstyleproject.com/comebacks-for-who-asked/], [snippet: That\\'s why I\\'ve put together this list of 32+ witty comebacks for \"who asked\" and \"did I ask.\". I hope they help you the next time someone asks you this question! Sale. Comebacks at Work: Using Conversation to Master Confrontation. Audible Audiobook. Kathleen Reardon (Author) - Susan Ericksen (Narrator), title: 32 Savage Comebacks For Who Asked You \"Did I Ask\", \"Nobody Asked\", link: https://herpaperroute.com/comebacks-for-who-asked/], [snippet: Don\\'t exaggerate and say something outrageous. Stick to the facts and pick on the truth because that will be more powerful. Speak clearly and avoid muttering or saying \\'um\\' and \\'uh\\' too much. Have other funny comebacks ready so you aren\\'t left speechless after their response. Use their words against them and make it a part of your ..., title: 40 Best Comebacks to Leave Everyone Speechless Instantly, link: https://www.boredpanda.com/good-comebacks/]', name='Search', id='e382138c-32ff-4599-b0c2-52db0f9aa45f', tool_call_id='92df20e6-b543-4c5d-8c07-5abe37c076de'),\n",
       "  AIMessage(content='You asked what you asked just now. \\n', response_metadata={'prompt_feedback': {'block_reason': 0, 'safety_ratings': []}, 'finish_reason': 'STOP', 'safety_ratings': [{'category': 'HARM_CATEGORY_SEXUALLY_EXPLICIT', 'probability': 'NEGLIGIBLE', 'blocked': False}, {'category': 'HARM_CATEGORY_HATE_SPEECH', 'probability': 'NEGLIGIBLE', 'blocked': False}, {'category': 'HARM_CATEGORY_HARASSMENT', 'probability': 'NEGLIGIBLE', 'blocked': False}, {'category': 'HARM_CATEGORY_DANGEROUS_CONTENT', 'probability': 'NEGLIGIBLE', 'blocked': False}]}, id='run-62a89bd7-bb7b-4502-952e-527330bac572-0', usage_metadata={'input_tokens': 626, 'output_tokens': 8, 'total_tokens': 634}),\n",
       "  HumanMessage(content='我叫什么', id='63dcda0b-3708-4311-b75d-23dfff4fc4bc'),\n",
       "  AIMessage(content='很抱歉，我无法访问你的个人信息，包括你的名字。我是一个AI，没有记忆功能。 \\n\\n你想聊点别的吗？ 😊 \\n', response_metadata={'prompt_feedback': {'block_reason': 0, 'safety_ratings': []}, 'finish_reason': 'STOP', 'safety_ratings': [{'category': 'HARM_CATEGORY_SEXUALLY_EXPLICIT', 'probability': 'NEGLIGIBLE', 'blocked': False}, {'category': 'HARM_CATEGORY_HATE_SPEECH', 'probability': 'NEGLIGIBLE', 'blocked': False}, {'category': 'HARM_CATEGORY_HARASSMENT', 'probability': 'NEGLIGIBLE', 'blocked': False}, {'category': 'HARM_CATEGORY_DANGEROUS_CONTENT', 'probability': 'NEGLIGIBLE', 'blocked': False}]}, id='run-f0a94b71-87c2-4207-b2fa-2fa67a37b06c-0', usage_metadata={'input_tokens': 641, 'output_tokens': 31, 'total_tokens': 672})]}"
      ]
     },
     "execution_count": 10,
     "metadata": {},
     "output_type": "execute_result"
    }
   ],
   "source": [
    "response = agent_executor.invoke(\n",
    "    {\"messages\": [HumanMessage(content=\"我叫什么\")]}, config=config)\n",
    "response"
   ]
  },
  {
   "cell_type": "code",
   "execution_count": 12,
   "metadata": {},
   "outputs": [
    {
     "data": {
      "text/plain": [
       "'很抱歉，我无法访问你的个人信息，包括你的名字。我是一个AI，没有记忆功能。 \\n\\n你想聊点别的吗？ 😊 \\n'"
      ]
     },
     "execution_count": 12,
     "metadata": {},
     "output_type": "execute_result"
    }
   ],
   "source": [
    "response['messages'][-1].content"
   ]
  },
  {
   "cell_type": "code",
   "execution_count": null,
   "metadata": {},
   "outputs": [],
   "source": [
    "response = agent_executor.invoke(\n",
    "    {\"messages\": [HumanMessage(content=\"我叫钱泽昊\")]}, config=config)\n",
    "response"
   ]
  },
  {
   "cell_type": "code",
   "execution_count": null,
   "metadata": {},
   "outputs": [],
   "source": [
    "response = agent_executor.invoke(\n",
    "    {\"messages\": [HumanMessage(content=\"我叫什么\")]}, config=config)\n",
    "response"
   ]
  },
  {
   "cell_type": "code",
   "execution_count": null,
   "metadata": {},
   "outputs": [],
   "source": [
    "response = agent_executor.invoke(\n",
    "    {\"messages\": [HumanMessage(content=\"帮我查一下伦敦到杜伦的距离\")]}, config=config)\n",
    "response"
   ]
  },
  {
   "cell_type": "code",
   "execution_count": null,
   "metadata": {},
   "outputs": [],
   "source": [
    "response = agent_executor.invoke(\n",
    "    {\"messages\": [HumanMessage(content=\"火车距离\")]}, config=config)\n",
    "response"
   ]
  },
  {
   "cell_type": "code",
   "execution_count": null,
   "metadata": {},
   "outputs": [],
   "source": [
    "response = agent_executor.invoke(\n",
    "    {\"messages\": [HumanMessage(content=\"我想知道直线距离\")]}, config=config)\n",
    "response"
   ]
  },
  {
   "cell_type": "code",
   "execution_count": null,
   "metadata": {},
   "outputs": [],
   "source": [
    "response = agent_executor.invoke(\n",
    "    {\"messages\": [HumanMessage(content=\"给我一些英国最近的新闻\")]}, config=config)\n",
    "response"
   ]
  },
  {
   "cell_type": "code",
   "execution_count": null,
   "metadata": {},
   "outputs": [],
   "source": [
    "response = agent_executor.invoke(\n",
    "    {\"messages\": [HumanMessage(content=\"搜索一下英国的新闻\")]}, config=config)\n",
    "response"
   ]
  },
  {
   "cell_type": "code",
   "execution_count": null,
   "metadata": {},
   "outputs": [],
   "source": [
    "response['messages'][-1].content"
   ]
  },
  {
   "cell_type": "code",
   "execution_count": null,
   "metadata": {},
   "outputs": [],
   "source": [
    "import langchain_core.messages.tool\n",
    "import langchain_core.messages.ai\n",
    "AI_message_list = []\n",
    "tool_message_list = []\n",
    "\n",
    "\n",
    "for message in response[\"messages\"]:\n",
    "    # if type(message) == 'langchain_core.messages.human.HumanMessage':\n",
    "    #\n",
    "    # print(type(message))\n",
    "    if isinstance(message, langchain_core.messages.ai.AIMessage):\n",
    "        # AI_message_list.append(message)\n",
    "        if len(message.content) > 0:\n",
    "            print(message.content)\n",
    "            AI_message_list.append(message.content)\n",
    "\n",
    "    if isinstance(message, langchain_core.messages.tool.ToolMessage):\n",
    "        tool_message_list.append(message.content)\n",
    "        print(message.content)"
   ]
  },
  {
   "cell_type": "code",
   "execution_count": null,
   "metadata": {},
   "outputs": [],
   "source": []
  }
 ],
 "metadata": {
  "kernelspec": {
   "display_name": "agentnotebook",
   "language": "python",
   "name": "python3"
  },
  "language_info": {
   "codemirror_mode": {
    "name": "ipython",
    "version": 3
   },
   "file_extension": ".py",
   "mimetype": "text/x-python",
   "name": "python",
   "nbconvert_exporter": "python",
   "pygments_lexer": "ipython3",
   "version": "3.11.9"
  }
 },
 "nbformat": 4,
 "nbformat_minor": 2
}
